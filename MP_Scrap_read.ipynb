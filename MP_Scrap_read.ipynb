{
  "nbformat": 4,
  "nbformat_minor": 0,
  "metadata": {
    "colab": {
      "name": "MP-Scrap-read.ipynb",
      "provenance": [],
      "collapsed_sections": [],
      "authorship_tag": "ABX9TyMgnd3/1e1Ep+JIb9Frp9PW",
      "include_colab_link": true
    },
    "kernelspec": {
      "name": "python3",
      "display_name": "Python 3"
    }
  },
  "cells": [
    {
      "cell_type": "markdown",
      "metadata": {
        "id": "view-in-github",
        "colab_type": "text"
      },
      "source": [
        "<a href=\"https://colab.research.google.com/github/ferdinand-leitermann/contact-web-scrapping/blob/main/MP_Scrap_read.ipynb\" target=\"_parent\"><img src=\"https://colab.research.google.com/assets/colab-badge.svg\" alt=\"Open In Colab\"/></a>"
      ]
    },
    {
      "cell_type": "code",
      "metadata": {
        "id": "WHYLA42keEul",
        "outputId": "85d209ed-48c5-4211-9efa-ddf2aa01a89d",
        "colab": {
          "base_uri": "https://localhost:8080/",
          "height": 143
        }
      },
      "source": [
        "from google.colab import drive\n",
        "drive.mount('/content/gdrive', force_remount=True)\n",
        "\n",
        "from google.colab import auth\n",
        "auth.authenticate_user()\n",
        "import gspread\n",
        "from gspread.models import Cell\n",
        "from oauth2client.client import GoogleCredentials\n",
        "\n",
        "import pickle\n",
        "import json\n",
        "import re\n",
        "\n",
        "from bs4 import BeautifulSoup\n",
        "import requests\n",
        "\n",
        "company_ws_file = 'MP-Company'\n",
        "employee_ws_file = 'MP-Employee'\n",
        "\n",
        "gc = gspread.authorize(GoogleCredentials.get_application_default())\n",
        "\n",
        "class Company:\n",
        "  def __init__(self, id, name, industry, email, phone, website, fax, employees, address, src):\n",
        "    self.id = id\n",
        "    self.name = name\n",
        "    self.industry = industry\n",
        "    self.email = email\n",
        "    self.phone = phone\n",
        "    self.website = website\n",
        "    self.fax = fax\n",
        "    self.address = address\n",
        "    if employees is None:\n",
        "      employees = []\n",
        "    self.employees = employees\n",
        "  def add_employee(self, employee):\n",
        "    self.employees.append(employee)\n",
        "  def get_employees_ids(self):\n",
        "    ids = []\n",
        "    for employee in self.employees:\n",
        "      ids.append(employee.id)\n",
        "    return ids\n",
        "\n",
        "class Employee:\n",
        "  def __init__(self, id, name, position, email, mobile, phone, company):\n",
        "    self.id = id\n",
        "    self.name = name\n",
        "    self.position = position\n",
        "    self.email = email\n",
        "    self.mobile = mobile\n",
        "    self.phone = phone\n",
        "    self.company = company\n",
        "    company.add_employee(self)\n",
        "\n",
        "class Address:\n",
        "  def __init__(self, street1, street2, zip, city, country):\n",
        "    self.street1 = street1\n",
        "    self.street2 = street2\n",
        "    self.zip = zip\n",
        "    self.city = city\n",
        "    self.country = country\n",
        "\n",
        "file_path = '/content/gdrive/My Drive/4sight/'\n",
        "file_name = 'MP-Dataset.pickle'\n",
        "\n",
        "with open(file_path + file_name, 'rb') as f:\n",
        "  dataset = pickle.load(f)\n",
        "\n",
        "company_cells = []\n",
        "employee_cells = []\n",
        "email_count = 0\n",
        "email_com = 0\n",
        "email_ee = 0\n",
        "\n",
        "for c in dataset[0]:\n",
        "  a = c.address\n",
        "  a.country = \"Malta\"\n",
        "  if a.city is not None:\n",
        "    zip = a.city.split(\",\")[0].strip()\n",
        "    a.zip = zip\n",
        "  if a.street1 is not None:\n",
        "    street = \",\".join(a.street1.split(\",\")[:-1]).strip()\n",
        "    city = a.street1.split(\",\")[-1].strip()\n",
        "    a.street1 = street\n",
        "    a.city = city\n",
        "  \n",
        "  b = c.address\n",
        "  #print(\"Street:\",b.street1,\"Zip:\" ,b.zip,\"City:\", b.city,\"Country:\", b.country)\n",
        "\n",
        "\n",
        "for index, c in enumerate(dataset[0]):\n",
        "  company_cells.append(Cell(row=index +1,col=1,value=c.id))\n",
        "  company_cells.append(Cell(row=index+1, col=2, value=c.name))\n",
        "  company_cells.append(Cell(row=index+1, col=3, value=c.industry))\n",
        "  company_cells.append(Cell(row=index+1, col=4, value=c.email))\n",
        "  company_cells.append(Cell(row=index+1, col=5, value=c.phone))\n",
        "  company_cells.append(Cell(row=index+1, col=6, value=c.fax))\n",
        "  company_cells.append(Cell(row=index+1, col=7, value=c.website))\n",
        "  company_cells.append(Cell(row=index+1, col=8, value=c.address.street1))\n",
        "  company_cells.append(Cell(row=index+1, col=9, value=c.address.city))\n",
        "  company_cells.append(Cell(row=index+1, col=10, value=c.address.zip))\n",
        "  company_cells.append(Cell(row=index+1, col=11, value=c.address.country))\n",
        "  company_cells.append(Cell(row=index+1, col=12, value=c.src))\n",
        "  if '@' in c.email:\n",
        "    email_com += 1\n",
        "\n",
        "\n",
        "for index, e in enumerate(dataset[1]):\n",
        "  address = e.company.address.street1 + e.company.address.city\n",
        "  employee_cells.append(Cell(row=index+1, col=1, value=e.id))\n",
        "  employee_cells.append(Cell(row=index+1, col=2, value=e.name))\n",
        "  employee_cells.append(Cell(row=index+1, col=3, value=e.position))\n",
        "  employee_cells.append(Cell(row=index+1, col=4, value=e.email))\n",
        "  employee_cells.append(Cell(row=index+1, col=5, value=e.mobile))\n",
        "  employee_cells.append(Cell(row=index+1, col=6, value=e.phone))\n",
        "  employee_cells.append(Cell(row=index+1, col=7, value=e.company.id))\n",
        "  employee_cells.append(Cell(row=index+1, col=8, value=e.company.industry))\n",
        "  employee_cells.append(Cell(row=index+1, col=9, value=e.company.name))\n",
        "  employee_cells.append(Cell(row=index+1, col=10, value=address))\n",
        "  if e.email is not None:\n",
        "    email_ee += 1\n",
        "\n",
        "email_count = email_com + email_ee\n",
        "print(email_count, email_com,email_ee)\n",
        "\n",
        "#employee_ws = gc.open(employee_ws_file).sheet1\n",
        "company_ws = gc.open(company_ws_file).sheet1\n",
        "#employee_ws.update_cells(employee_cells)\n",
        "company_ws.update_cells(company_cells)\n",
        "\n",
        "\n"
      ],
      "execution_count": null,
      "outputs": [
        {
          "output_type": "stream",
          "text": [
            "Mounted at /content/gdrive\n",
            "574 355 219\n"
          ],
          "name": "stdout"
        },
        {
          "output_type": "execute_result",
          "data": {
            "text/plain": [
              "{'spreadsheetId': '1-8hayMQmyNUstRGtYzHYmASg8MeRnqMa2IDto_FZJtw',\n",
              " 'updatedCells': 16077,\n",
              " 'updatedColumns': 12,\n",
              " 'updatedRange': 'Tabellenblatt1!A1:L1347',\n",
              " 'updatedRows': 1347}"
            ]
          },
          "metadata": {
            "tags": []
          },
          "execution_count": 24
        }
      ]
    }
  ]
}